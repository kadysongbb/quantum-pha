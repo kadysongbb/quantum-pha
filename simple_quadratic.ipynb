{
 "cells": [
  {
   "cell_type": "code",
   "execution_count": 196,
   "metadata": {},
   "outputs": [
    {
     "name": "stdout",
     "output_type": "stream",
     "text": [
      "75\n",
      "0.8704\n",
      "[[-1458498.5    14500.     15000.  ...     8500.      8500.      8500. ]\n",
      " [   14500.  -1284998.5    14000.  ...     6000.      6000.      6000. ]\n",
      " [   15000.     14000.  -1319498.5 ...     6500.      6500.      6500. ]\n",
      " ...\n",
      " [    8500.      6000.      6500.  ...        0.         0.         0. ]\n",
      " [    8500.      6000.      6500.  ...        0.         0.         0. ]\n",
      " [    8500.      6000.      6500.  ...        0.         0.         0. ]]\n"
     ]
    }
   ],
   "source": [
    "import numpy as np \n",
    "import gurobipy as gp\n",
    "from gurobipy import GRB\n",
    "import random\n",
    "\n",
    "Q_csv = np.loadtxt(open(\"q_matrices/dim75_Q00.csv\", \"rb\"), delimiter=\",\", skiprows=0)\n",
    "length = Q_csv.shape[0]\n",
    "print(length)\n",
    "\n",
    "def fill_diagonals(csv_matrix, num_diagonals): \n",
    "    Q = np.zeros((len(csv_matrix), len(csv_matrix)))\n",
    "    for i in range(num_diagonals):\n",
    "        for j in range(len(csv_matrix) - i):\n",
    "            Q[j,j+i] = csv_matrix[j,j+i]\n",
    "            Q[j+i,j] = csv_matrix[j+i,j]\n",
    "    return Q\n",
    "\n",
    "def fill_rows_columns(csv_matrix, num_rows):\n",
    "    Q = np.zeros((len(csv_matrix), len(csv_matrix)))\n",
    "    for i in range(num_rows):\n",
    "        Q[i,:] = csv_matrix[i,:]\n",
    "        Q[:,i] = csv_matrix[:,i]\n",
    "    return Q    \n",
    "\n",
    "def calculate_sparsity(matrix):\n",
    "    return np.count_nonzero(matrix)/(matrix.shape[0]*matrix.shape[1])\n",
    "\n",
    "Q = fill_rows_columns(Q_csv, 48)\n",
    "print(calculate_sparsity(Q))\n",
    "print(Q)"
   ]
  },
  {
   "cell_type": "code",
   "execution_count": 197,
   "metadata": {},
   "outputs": [
    {
     "name": "stdout",
     "output_type": "stream",
     "text": [
      "Set parameter Username\n",
      "Set parameter LogFile to value \"gurobi.txt\"\n",
      "Academic license - for non-commercial use only - expires 2024-06-06\n",
      "Set parameter NonConvex to value 2\n",
      "Gurobi Optimizer version 10.0.1 build v10.0.1rc0 (mac64[x86])\n",
      "\n",
      "CPU model: Intel(R) Core(TM) i7-8559U CPU @ 2.70GHz\n",
      "Thread count: 4 physical cores, 8 logical processors, using up to 8 threads\n",
      "\n",
      "Optimize a model with 0 rows, 75 columns and 0 nonzeros\n",
      "Model fingerprint: 0x5f4be6b3\n",
      "Model has 2472 quadratic objective terms\n",
      "Variable types: 0 continuous, 75 integer (75 binary)\n",
      "Coefficient statistics:\n",
      "  Matrix range     [0e+00, 0e+00]\n",
      "  Objective range  [0e+00, 0e+00]\n",
      "  QObjective range [2e+04, 3e+06]\n",
      "  Bounds range     [1e+00, 1e+00]\n",
      "  RHS range        [0e+00, 0e+00]\n",
      "Found heuristic solution: objective 0.0000000\n",
      "Found heuristic solution: objective -8842928.000\n",
      "Found heuristic solution: objective -3.13389e+07\n",
      "Presolve removed 0 rows and 30 columns\n",
      "Presolve time: 0.01s\n",
      "Presolved: 0 rows, 45 columns, 0 nonzeros\n",
      "Presolved model has 1035 quadratic objective terms\n",
      "Variable types: 0 continuous, 45 integer (45 binary)\n",
      "\n",
      "Root relaxation: objective -3.168229e+07, 60 iterations, 0.00 seconds (0.00 work units)\n",
      "\n",
      "    Nodes    |    Current Node    |     Objective Bounds      |     Work\n",
      " Expl Unexpl |  Obj  Depth IntInf | Incumbent    BestBd   Gap | It/Node Time\n",
      "\n",
      "     0     0 -3.168e+07    0   24 -3.134e+07 -3.168e+07  1.10%     -    0s\n",
      "     0     0 -3.168e+07    0   24 -3.134e+07 -3.168e+07  1.10%     -    0s\n",
      "     0     2 -3.168e+07    0   24 -3.134e+07 -3.168e+07  1.10%     -    0s\n",
      "\n",
      "Explored 2775 nodes (7432 simplex iterations) in 0.17 seconds (0.10 work units)\n",
      "Thread count was 8 (of 8 available processors)\n",
      "\n",
      "Solution count 3: -3.13389e+07 -8.84293e+06 0 \n",
      "No other solutions better than -3.13389e+07\n",
      "\n",
      "Optimal solution found (tolerance 1.00e-04)\n",
      "Best objective -3.133893100000e+07, best bound -3.133893100000e+07, gap -0.0000%\n"
     ]
    }
   ],
   "source": [
    "env = gp.Env(empty=True)\n",
    "env.setParam(\"LogToConsole\", 1)\n",
    "env.setParam(\"LogFile\", 'gurobi.txt')\n",
    "env.start()\n",
    "\n",
    "problem = gp.Model(env=env)\n",
    "\n",
    "x = problem.addMVar(len(Q), vtype=GRB.BINARY, name = 'x')\n",
    "obj = x@Q@x\n",
    "problem.setObjective(obj, GRB.MINIMIZE)\n",
    "problem.params.NonConvex = 2\n",
    "problem.optimize()\n",
    "\n",
    "sol_x = []\n",
    "for v in problem.getVars():\n",
    "    if 'x' in v.varName:\n",
    "        sol_x.append(v.x)"
   ]
  },
  {
   "cell_type": "code",
   "execution_count": 198,
   "metadata": {},
   "outputs": [
    {
     "name": "stdout",
     "output_type": "stream",
     "text": [
      "Objective\n",
      "-31338931.0\n"
     ]
    }
   ],
   "source": [
    "x = np.asarray(sol_x)\n",
    "print('Objective')\n",
    "print(x@Q@x)"
   ]
  },
  {
   "cell_type": "code",
   "execution_count": 199,
   "metadata": {},
   "outputs": [],
   "source": [
    "import dimod\n",
    "from dwave.system.samplers import DWaveSampler, LeapHybridSampler, DWaveCliqueSampler\n",
    "from dwave.system.composites import EmbeddingComposite, AutoEmbeddingComposite, ReverseBatchStatesComposite\n",
    "\n",
    "def matrix_to_qubo_helper(A):\n",
    "    Q = {}\n",
    "    for i in range(A.shape[1]):\n",
    "        for j in range(i, A.shape[1]):\n",
    "            if i != j:\n",
    "                Q[(i,j)] = A[i][j] + A[j][i]\n",
    "            else:\n",
    "                Q[(i,j)] = A[i][j]\n",
    "    return Q"
   ]
  },
  {
   "cell_type": "code",
   "execution_count": null,
   "metadata": {},
   "outputs": [],
   "source": [
    "bqm = dimod.BinaryQuadraticModel.from_qubo(matrix_to_qubo_helper(Q))\n",
    "sampler = AutoEmbeddingComposite(DWaveSampler(profile='kadysong@berkeley.edu'))\n",
    "sample_set = sampler.sample(bqm, num_reads = 1000)\n",
    "print(sample_set.info[\"timing\"]) "
   ]
  },
  {
   "cell_type": "code",
   "execution_count": null,
   "metadata": {},
   "outputs": [],
   "source": [
    "# Use the first solution\n",
    "x = list(sample_set.samples()[0].values())\n",
    "print('Objective')\n",
    "print(x@Q@x)"
   ]
  },
  {
   "cell_type": "code",
   "execution_count": null,
   "metadata": {},
   "outputs": [],
   "source": []
  }
 ],
 "metadata": {
  "kernelspec": {
   "display_name": "Python 3",
   "language": "python",
   "name": "python3"
  },
  "language_info": {
   "codemirror_mode": {
    "name": "ipython",
    "version": 3
   },
   "file_extension": ".py",
   "mimetype": "text/x-python",
   "name": "python",
   "nbconvert_exporter": "python",
   "pygments_lexer": "ipython3",
   "version": "3.7.2"
  }
 },
 "nbformat": 4,
 "nbformat_minor": 2
}
